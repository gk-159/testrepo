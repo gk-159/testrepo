{
 "cells": [
  {
   "cell_type": "markdown",
   "id": "01006978-7c9d-4231-87bf-c378029c0f0c",
   "metadata": {},
   "source": [
    "# Data Science Tools and Ecosystem"
   ]
  },
  {
   "cell_type": "markdown",
   "id": "d45c78b9-e4eb-4433-8b3d-910c7fb41e8e",
   "metadata": {},
   "source": [
    "In this notebook, Data Science Tools and Ecosystem are summarized."
   ]
  },
  {
   "cell_type": "markdown",
   "id": "32b093f6-f64a-4158-b7c4-21251e18ca9b",
   "metadata": {},
   "source": [
    "Some of the popular languages that Data Scientists use are:\n",
    "1) Python\n",
    "2) R\n",
    "3) Julia"
   ]
  },
  {
   "cell_type": "markdown",
   "id": "269d9fdc-2f6d-4377-90fa-746ccdef711d",
   "metadata": {},
   "source": [
    "Some of the commonly used libraries used by Data Scientists include:\n",
    "1) Pandas\n",
    "2) NumPy\n",
    "3) SciPy"
   ]
  },
  {
   "cell_type": "markdown",
   "id": "a92b4449-b368-4b71-b367-464342ef9e89",
   "metadata": {},
   "source": [
    "| Data Science Tools |\n",
    "| --- | \n",
    "| Jupyter Notebook | \n",
    "| Google Colab |\n",
    "| Spyder |\n",
    "| VS Code |"
   ]
  },
  {
   "cell_type": "markdown",
   "id": "19f03c82-c676-4912-be37-9c534acc934f",
   "metadata": {},
   "source": [
    "### Below are a few examples of evaluating arithmetic expressions in Python"
   ]
  },
  {
   "cell_type": "code",
   "execution_count": 1,
   "id": "9de2b278-5317-40bd-a615-c7d9c3af570f",
   "metadata": {},
   "outputs": [
    {
     "data": {
      "text/plain": [
       "17"
      ]
     },
     "execution_count": 1,
     "metadata": {},
     "output_type": "execute_result"
    }
   ],
   "source": [
    "# This a simple arithmetic expression to mutiply then add integers\n",
    "(3*4)+5"
   ]
  },
  {
   "cell_type": "code",
   "execution_count": 2,
   "id": "1e07bbbb-9c4d-4208-a1b4-77cc5e4480b6",
   "metadata": {},
   "outputs": [
    {
     "data": {
      "text/plain": [
       "3.3333333333333335"
      ]
     },
     "execution_count": 2,
     "metadata": {},
     "output_type": "execute_result"
    }
   ],
   "source": [
    "# This will convert 200 minutes to hours by diving by 60.\n",
    "200/60"
   ]
  },
  {
   "cell_type": "markdown",
   "id": "df56fecc-e00b-4774-8ac8-c2edadd0078c",
   "metadata": {},
   "source": [
    "__Objectives:__\n",
    "- The main objective of this course is to get familiarized with Jupyter notebook environment by practicing markdown cells and evaluating arithmetic expressions.\n",
    "- The other objectives are to list some of the popular data science languages, libraries and tools.\n",
    "- We have listed some of the popular languages that Data Scientists use.\n",
    "- We have listed some of the commonly used libraries used by Data Scientists.\n",
    "- we have also mentioned some of the popular data science tools."
   ]
  },
  {
   "cell_type": "markdown",
   "id": "bf425868-a641-4e89-81b5-700d7b19efce",
   "metadata": {},
   "source": [
    "## Author\n",
    "Chippada Gopala Krishna"
   ]
  },
  {
   "cell_type": "code",
   "execution_count": null,
   "id": "0c5c1ba7-a7c3-4634-8f8a-6c87529dc76e",
   "metadata": {},
   "outputs": [],
   "source": []
  }
 ],
 "metadata": {
  "kernelspec": {
   "display_name": "Python",
   "language": "python",
   "name": "conda-env-python-py"
  },
  "language_info": {
   "codemirror_mode": {
    "name": "ipython",
    "version": 3
   },
   "file_extension": ".py",
   "mimetype": "text/x-python",
   "name": "python",
   "nbconvert_exporter": "python",
   "pygments_lexer": "ipython3",
   "version": "3.7.12"
  }
 },
 "nbformat": 4,
 "nbformat_minor": 5
}
